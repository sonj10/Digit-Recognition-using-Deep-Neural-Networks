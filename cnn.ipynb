{
  "nbformat": 4,
  "nbformat_minor": 0,
  "metadata": {
    "colab": {
      "name": "cnn.ipynb",
      "provenance": [],
      "collapsed_sections": []
    },
    "kernelspec": {
      "name": "python3",
      "display_name": "Python 3"
    },
    "accelerator": "GPU"
  },
  "cells": [
    {
      "cell_type": "markdown",
      "metadata": {
        "id": "jmIGJvl1RmIB"
      },
      "source": [
        "# **Convolutional Neural Network**"
      ]
    },
    {
      "cell_type": "code",
      "metadata": {
        "colab": {
          "base_uri": "https://localhost:8080/"
        },
        "id": "fVPJAbpgkGHJ",
        "outputId": "e7384e15-1a5c-45bb-d4fc-036b7190f4cd"
      },
      "source": [
        "# Selecting the required Keras and TensorFlow version\n",
        "!pip install q keras==2.3.1\n",
        "%tensorflow_version 1.5.1"
      ],
      "execution_count": 1,
      "outputs": [
        {
          "output_type": "stream",
          "text": [
            "Requirement already satisfied: q in /usr/local/lib/python3.6/dist-packages (2.6)\n",
            "Requirement already satisfied: keras==2.3.1 in /usr/local/lib/python3.6/dist-packages (2.3.1)\n",
            "Requirement already satisfied: keras-preprocessing>=1.0.5 in /usr/local/lib/python3.6/dist-packages (from keras==2.3.1) (1.1.2)\n",
            "Requirement already satisfied: pyyaml in /usr/local/lib/python3.6/dist-packages (from keras==2.3.1) (3.13)\n",
            "Requirement already satisfied: six>=1.9.0 in /usr/local/lib/python3.6/dist-packages (from keras==2.3.1) (1.15.0)\n",
            "Requirement already satisfied: h5py in /usr/local/lib/python3.6/dist-packages (from keras==2.3.1) (2.10.0)\n",
            "Requirement already satisfied: scipy>=0.14 in /usr/local/lib/python3.6/dist-packages (from keras==2.3.1) (1.4.1)\n",
            "Requirement already satisfied: numpy>=1.9.1 in /usr/local/lib/python3.6/dist-packages (from keras==2.3.1) (1.18.5)\n",
            "Requirement already satisfied: keras-applications>=1.0.6 in /usr/local/lib/python3.6/dist-packages (from keras==2.3.1) (1.0.8)\n",
            "`%tensorflow_version` only switches the major version: 1.x or 2.x.\n",
            "You set: `1.5.1`. This will be interpreted as: `1.x`.\n",
            "\n",
            "\n",
            "TensorFlow 1.x selected.\n"
          ],
          "name": "stdout"
        }
      ]
    },
    {
      "cell_type": "code",
      "metadata": {
        "colab": {
          "base_uri": "https://localhost:8080/"
        },
        "id": "T1bHRGmBLLke",
        "outputId": "4da16527-ddf7-43d1-e27f-58b12a979a55"
      },
      "source": [
        "# Importing relevant packages\n",
        "from keras.datasets import mnist\n",
        "from keras.utils import np_utils\n",
        "from keras.models import Sequential\n",
        "from keras.layers import Dense, Dropout, Flatten\n",
        "from keras.layers import Conv2D, MaxPooling2D\n",
        "from keras import backend as K\n",
        "import matplotlib.pyplot as plt"
      ],
      "execution_count": 2,
      "outputs": [
        {
          "output_type": "stream",
          "text": [
            "Using TensorFlow backend.\n"
          ],
          "name": "stderr"
        }
      ]
    },
    {
      "cell_type": "code",
      "metadata": {
        "id": "icpBTmLhNoqn"
      },
      "source": [
        "# Initializing the input image dimensions\n",
        "img_rows, img_cols = 28, 28"
      ],
      "execution_count": 3,
      "outputs": []
    },
    {
      "cell_type": "code",
      "metadata": {
        "id": "sWzShV9fNs-H",
        "colab": {
          "base_uri": "https://localhost:8080/"
        },
        "outputId": "c8d5ca05-13a0-40da-fb31-f19d2baf729d"
      },
      "source": [
        "# Loading the MNIST dataset\n",
        "(X_train, y_train), (X_test, y_test) = mnist.load_data()\n",
        "print(\"Size of MNIST training set = %d.\" % len(X_train))\n",
        "print(\"Size of MNIST test set = %d\" % len(X_test))"
      ],
      "execution_count": 4,
      "outputs": [
        {
          "output_type": "stream",
          "text": [
            "Size of MNIST training set = 60000.\n",
            "Size of MNIST test set = 10000\n"
          ],
          "name": "stdout"
        }
      ]
    },
    {
      "cell_type": "code",
      "metadata": {
        "id": "6ZATgkJJNyT1"
      },
      "source": [
        "# Reshaping the imput image to the required dimensions\n",
        "if K.image_data_format() == 'channels_first':\n",
        "    X_train = X_train.reshape(X_train.shape[0], 1, img_rows, img_cols)\n",
        "    X_test = X_test.reshape(X_test.shape[0], 1, img_rows, img_cols)\n",
        "    input_shape = (1, img_rows, img_cols)\n",
        "else:\n",
        "    X_train = X_train.reshape(X_train.shape[0], img_rows, img_cols, 1)\n",
        "    X_test = X_test.reshape(X_test.shape[0], img_rows, img_cols, 1)\n",
        "    input_shape = (img_rows, img_cols, 1)"
      ],
      "execution_count": 5,
      "outputs": []
    },
    {
      "cell_type": "code",
      "metadata": {
        "id": "fzgxNLp-N0yO"
      },
      "source": [
        "# Scaling each pixel to the range [0,1]\n",
        "X_train = X_train.astype('float32')/255\n",
        "X_test = X_test.astype('float32')/255"
      ],
      "execution_count": 6,
      "outputs": []
    },
    {
      "cell_type": "code",
      "metadata": {
        "id": "j31PBtZMN4Pe"
      },
      "source": [
        "# Encoding the labels into integers\r\n",
        "y_train = np_utils.to_categorical(y_train, 10)\r\n",
        "y_test = np_utils.to_categorical(y_test, 10)"
      ],
      "execution_count": 7,
      "outputs": []
    },
    {
      "cell_type": "code",
      "metadata": {
        "colab": {
          "base_uri": "https://localhost:8080/"
        },
        "id": "JNYuSkccwaR_",
        "outputId": "e8a5b5b8-ade7-48ee-d232-63df1b7386c9"
      },
      "source": [
        "input_shape"
      ],
      "execution_count": 8,
      "outputs": [
        {
          "output_type": "execute_result",
          "data": {
            "text/plain": [
              "(28, 28, 1)"
            ]
          },
          "metadata": {
            "tags": []
          },
          "execution_count": 8
        }
      ]
    },
    {
      "cell_type": "code",
      "metadata": {
        "id": "YMdxzZPDOBG2",
        "colab": {
          "base_uri": "https://localhost:8080/"
        },
        "outputId": "52895e99-3169-42ab-af39-48a6fc6a5e3f"
      },
      "source": [
        "# Defining the Model Architecture\n",
        "model = Sequential()\n",
        "model.add(Conv2D(16, kernel_size=(3, 3), activation='relu', input_shape=input_shape))\n",
        "model.add(MaxPooling2D(pool_size=(2, 2)))\n",
        "model.add(Conv2D(32, (3, 3), activation='relu'))\n",
        "model.add(MaxPooling2D(pool_size=(2, 2)))\n",
        "model.add(Dropout(0.25))\n",
        "model.add(Flatten())\n",
        "model.add(Dense(128, activation='relu'))\n",
        "model.add(Dropout(0.5))\n",
        "model.add(Dense(10, activation='softmax'))\n",
        "model.summary()"
      ],
      "execution_count": 10,
      "outputs": [
        {
          "output_type": "stream",
          "text": [
            "Model: \"sequential_2\"\n",
            "_________________________________________________________________\n",
            "Layer (type)                 Output Shape              Param #   \n",
            "=================================================================\n",
            "conv2d_3 (Conv2D)            (None, 26, 26, 16)        160       \n",
            "_________________________________________________________________\n",
            "max_pooling2d_3 (MaxPooling2 (None, 13, 13, 16)        0         \n",
            "_________________________________________________________________\n",
            "conv2d_4 (Conv2D)            (None, 11, 11, 32)        4640      \n",
            "_________________________________________________________________\n",
            "max_pooling2d_4 (MaxPooling2 (None, 5, 5, 32)          0         \n",
            "_________________________________________________________________\n",
            "dropout_3 (Dropout)          (None, 5, 5, 32)          0         \n",
            "_________________________________________________________________\n",
            "flatten_2 (Flatten)          (None, 800)               0         \n",
            "_________________________________________________________________\n",
            "dense_2 (Dense)              (None, 128)               102528    \n",
            "_________________________________________________________________\n",
            "dropout_4 (Dropout)          (None, 128)               0         \n",
            "_________________________________________________________________\n",
            "dense_3 (Dense)              (None, 10)                1290      \n",
            "=================================================================\n",
            "Total params: 108,618\n",
            "Trainable params: 108,618\n",
            "Non-trainable params: 0\n",
            "_________________________________________________________________\n"
          ],
          "name": "stdout"
        }
      ]
    },
    {
      "cell_type": "code",
      "metadata": {
        "id": "a1FoExcIPqGd"
      },
      "source": [
        "# Compiling the Model\n",
        "model.compile(loss='categorical_crossentropy', optimizer='adam', metrics=['accuracy'])"
      ],
      "execution_count": 11,
      "outputs": []
    },
    {
      "cell_type": "code",
      "metadata": {
        "colab": {
          "base_uri": "https://localhost:8080/"
        },
        "id": "HMd-mj_zPro0",
        "outputId": "82f09d41-9a40-483e-954b-5893c15eb7c2"
      },
      "source": [
        "# Training the Model\n",
        "history = model.fit(X_train, y_train, batch_size=128, epochs=12, validation_data=(X_test, y_test), verbose=1)"
      ],
      "execution_count": 12,
      "outputs": [
        {
          "output_type": "stream",
          "text": [
            "WARNING:tensorflow:From /tensorflow-1.15.2/python3.6/keras/backend/tensorflow_backend.py:422: The name tf.global_variables is deprecated. Please use tf.compat.v1.global_variables instead.\n",
            "\n",
            "Train on 60000 samples, validate on 10000 samples\n",
            "Epoch 1/12\n",
            "60000/60000 [==============================] - 5s 87us/step - loss: 0.3977 - accuracy: 0.8760 - val_loss: 0.0748 - val_accuracy: 0.9759\n",
            "Epoch 2/12\n",
            "60000/60000 [==============================] - 2s 41us/step - loss: 0.1277 - accuracy: 0.9611 - val_loss: 0.0529 - val_accuracy: 0.9827\n",
            "Epoch 3/12\n",
            "60000/60000 [==============================] - 3s 42us/step - loss: 0.0996 - accuracy: 0.9696 - val_loss: 0.0408 - val_accuracy: 0.9858\n",
            "Epoch 4/12\n",
            "60000/60000 [==============================] - 2s 41us/step - loss: 0.0819 - accuracy: 0.9752 - val_loss: 0.0353 - val_accuracy: 0.9874\n",
            "Epoch 5/12\n",
            "60000/60000 [==============================] - 2s 42us/step - loss: 0.0705 - accuracy: 0.9787 - val_loss: 0.0307 - val_accuracy: 0.9889\n",
            "Epoch 6/12\n",
            "60000/60000 [==============================] - 2s 41us/step - loss: 0.0647 - accuracy: 0.9805 - val_loss: 0.0274 - val_accuracy: 0.9908\n",
            "Epoch 7/12\n",
            "60000/60000 [==============================] - 2s 41us/step - loss: 0.0584 - accuracy: 0.9818 - val_loss: 0.0279 - val_accuracy: 0.9903\n",
            "Epoch 8/12\n",
            "60000/60000 [==============================] - 3s 42us/step - loss: 0.0529 - accuracy: 0.9841 - val_loss: 0.0285 - val_accuracy: 0.9901\n",
            "Epoch 9/12\n",
            "60000/60000 [==============================] - 2s 42us/step - loss: 0.0502 - accuracy: 0.9845 - val_loss: 0.0267 - val_accuracy: 0.9908\n",
            "Epoch 10/12\n",
            "60000/60000 [==============================] - 2s 42us/step - loss: 0.0471 - accuracy: 0.9853 - val_loss: 0.0249 - val_accuracy: 0.9920\n",
            "Epoch 11/12\n",
            "60000/60000 [==============================] - 2s 42us/step - loss: 0.0454 - accuracy: 0.9859 - val_loss: 0.0253 - val_accuracy: 0.9912\n",
            "Epoch 12/12\n",
            "60000/60000 [==============================] - 2s 41us/step - loss: 0.0421 - accuracy: 0.9871 - val_loss: 0.0240 - val_accuracy: 0.9922\n"
          ],
          "name": "stdout"
        }
      ]
    },
    {
      "cell_type": "code",
      "metadata": {
        "colab": {
          "base_uri": "https://localhost:8080/",
          "height": 573
        },
        "id": "V51Xu_hn0Qu7",
        "outputId": "24734603-b930-4bd1-d3cc-0756dde62790"
      },
      "source": [
        "# summarizing the model accuracy\n",
        "plt.plot(history.history['accuracy'])\n",
        "plt.plot(history.history['val_accuracy'])\n",
        "plt.title('CNN model accuracy')\n",
        "plt.ylabel('Accuracy')\n",
        "plt.xlabel('Epoch')\n",
        "plt.legend(['train', 'test'], loc='lower right')\n",
        "plt.show()\n",
        "# summarizing the model loss\n",
        "plt.plot(history.history['loss'])\n",
        "plt.plot(history.history['val_loss'])\n",
        "plt.title('CNN model loss')\n",
        "plt.ylabel('Loss')\n",
        "plt.xlabel('Epoch')\n",
        "plt.legend(['train', 'test'], loc='upper right')\n",
        "plt.show()"
      ],
      "execution_count": 13,
      "outputs": [
        {
          "output_type": "display_data",
          "data": {
            "image/png": "[encoded data removed]",
            "text/plain": [
              "<Figure size 432x288 with 1 Axes>"
            ]
          },
          "metadata": {
            "tags": [],
            "needs_background": "light"
          }
        },
        {
          "output_type": "display_data",
          "data": {
            "image/png": "[encoded data removed]",
            "text/plain": [
              "<Figure size 432x288 with 1 Axes>"
            ]
          },
          "metadata": {
            "tags": [],
            "needs_background": "light"
          }
        }
      ]
    },
    {
      "cell_type": "code",
      "metadata": {
        "colab": {
          "base_uri": "https://localhost:8080/"
        },
        "id": "0lBABiZRPtgE",
        "outputId": "16eb9d40-6281-4f5d-e418-af3645c5adbb"
      },
      "source": [
        "# Computing the classification perfomance on the test set\n",
        "score = model.evaluate(X_test, y_test, verbose=0)\n",
        "print('Test loss:', score[0])\n",
        "print('Test accuracy:', 100*score[1])"
      ],
      "execution_count": 14,
      "outputs": [
        {
          "output_type": "stream",
          "text": [
            "Test loss: 0.023985021708986278\n",
            "Test accuracy: 99.22000169754028\n"
          ],
          "name": "stdout"
        }
      ]
    },
    {
      "cell_type": "code",
      "metadata": {
        "id": "PhR4BIszQIGz"
      },
      "source": [
        "# Saving the trained model\r\n",
        "model.save('cnn_model.h5')"
      ],
      "execution_count": 15,
      "outputs": []
    }
  ]
}