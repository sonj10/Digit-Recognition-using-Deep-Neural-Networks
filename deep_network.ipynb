{
  "nbformat": 4,
  "nbformat_minor": 0,
  "metadata": {
    "colab": {
      "name": "deep_network.ipynb",
      "provenance": [],
      "collapsed_sections": []
    },
    "kernelspec": {
      "name": "python3",
      "display_name": "Python 3"
    },
    "accelerator": "GPU"
  },
  "cells": [
    {
      "cell_type": "markdown",
      "metadata": {
        "id": "mT-qv7bUN32j"
      },
      "source": [
        "# **Deep Neural Network**"
      ]
    },
    {
      "cell_type": "code",
      "metadata": {
        "colab": {
          "base_uri": "https://localhost:8080/"
        },
        "id": "EdOSI848x1kg",
        "outputId": "4ca8a42f-639b-4ca8-8dcf-42498270b216"
      },
      "source": [
        "# Selecting the required Keras and TensorFlow version\n",
        "!pip install q keras==2.3.1\n",
        "%tensorflow_version 1.5.1"
      ],
      "execution_count": null,
      "outputs": [
        {
          "output_type": "stream",
          "text": [
            "Requirement already satisfied: q in /usr/local/lib/python3.6/dist-packages (2.6)\n",
            "Requirement already satisfied: keras==2.3.1 in /tensorflow-1.15.2/python3.6 (2.3.1)\n",
            "Requirement already satisfied: six>=1.9.0 in /usr/local/lib/python3.6/dist-packages (from keras==2.3.1) (1.15.0)\n",
            "Requirement already satisfied: numpy>=1.9.1 in /usr/local/lib/python3.6/dist-packages (from keras==2.3.1) (1.18.5)\n",
            "Requirement already satisfied: pyyaml in /usr/local/lib/python3.6/dist-packages (from keras==2.3.1) (3.13)\n",
            "Requirement already satisfied: scipy>=0.14 in /usr/local/lib/python3.6/dist-packages (from keras==2.3.1) (1.4.1)\n",
            "Requirement already satisfied: keras-preprocessing>=1.0.5 in /usr/local/lib/python3.6/dist-packages (from keras==2.3.1) (1.1.2)\n",
            "Requirement already satisfied: h5py in /usr/local/lib/python3.6/dist-packages (from keras==2.3.1) (2.10.0)\n",
            "Requirement already satisfied: keras-applications>=1.0.6 in /tensorflow-1.15.2/python3.6 (from keras==2.3.1) (1.0.8)\n",
            "`%tensorflow_version` only switches the major version: 1.x or 2.x.\n",
            "You set: `1.5.1`. This will be interpreted as: `1.x`.\n",
            "\n",
            "\n",
            "TensorFlow is already loaded. Please restart the runtime to change versions.\n"
          ],
          "name": "stdout"
        }
      ]
    },
    {
      "cell_type": "code",
      "metadata": {
        "id": "FMWo1YIRJk-B"
      },
      "source": [
        "# Importing relevant packages\n",
        "from keras.datasets import mnist\n",
        "from keras.utils import np_utils\n",
        "from keras.models import Sequential\n",
        "from keras.layers import Dense, Dropout, Flatten\n",
        "from keras.callbacks import ModelCheckpoint\n",
        "import matplotlib.pyplot as plt"
      ],
      "execution_count": null,
      "outputs": []
    },
    {
      "cell_type": "code",
      "metadata": {
        "colab": {
          "base_uri": "https://localhost:8080/"
        },
        "id": "PAN1TaLiKXQj",
        "outputId": "9316936a-1d0c-419b-e079-8e0754d34cae"
      },
      "source": [
        "# Loading the MNIST dataset\n",
        "(X_train, y_train), (X_test, y_test) = mnist.load_data()\n",
        "print(\"Size of MNIST training set = %d.\" % len(X_train))\n",
        "print(\"Size of MNIST test set = %d\" % len(X_test))"
      ],
      "execution_count": null,
      "outputs": [
        {
          "output_type": "stream",
          "text": [
            "Size of MNIST training set = 60000.\n",
            "Size of MNIST test set = 10000\n"
          ],
          "name": "stdout"
        }
      ]
    },
    {
      "cell_type": "code",
      "metadata": {
        "id": "HXeJ1_EFKbL5"
      },
      "source": [
        "# Scaling each pixel to the range [0,1]\n",
        "X_train = X_train.astype('float32')/255\n",
        "X_test = X_test.astype('float32')/255"
      ],
      "execution_count": null,
      "outputs": []
    },
    {
      "cell_type": "code",
      "metadata": {
        "id": "WzWgO8a2KeKy"
      },
      "source": [
        "# Encoding the labels into integers\n",
        "y_train = np_utils.to_categorical(y_train, 10)\n",
        "y_test = np_utils.to_categorical(y_test, 10)"
      ],
      "execution_count": null,
      "outputs": []
    },
    {
      "cell_type": "code",
      "metadata": {
        "id": "9ITbqXgLKgX5",
        "colab": {
          "base_uri": "https://localhost:8080/"
        },
        "outputId": "e9c11d92-c254-4a78-a61a-945df013cc4c"
      },
      "source": [
        "# Defining the Model Architecture\n",
        "model = Sequential()\n",
        "model.add(Flatten(input_shape=X_train.shape[1:]))\n",
        "model.add(Dense(512, activation='relu'))\n",
        "model.add(Dropout(0.2))\n",
        "model.add(Dense(512, activation='relu'))\n",
        "model.add(Dropout(0.2))\n",
        "model.add(Dense(256, activation='relu'))\n",
        "model.add(Dropout(0.2))\n",
        "model.add(Dense(128, activation='relu'))\n",
        "model.add(Dropout(0.2))\n",
        "model.add(Dense(10, activation='softmax'))\n",
        "model.summary()"
      ],
      "execution_count": null,
      "outputs": [
        {
          "output_type": "stream",
          "text": [
            "WARNING:tensorflow:From /tensorflow-1.15.2/python3.6/tensorflow_core/python/ops/resource_variable_ops.py:1630: calling BaseResourceVariable.__init__ (from tensorflow.python.ops.resource_variable_ops) with constraint is deprecated and will be removed in a future version.\n",
            "Instructions for updating:\n",
            "If using Keras pass *_constraint arguments to layers.\n",
            "Model: \"sequential_1\"\n",
            "_________________________________________________________________\n",
            "Layer (type)                 Output Shape              Param #   \n",
            "=================================================================\n",
            "flatten_1 (Flatten)          (None, 784)               0         \n",
            "_________________________________________________________________\n",
            "dense_1 (Dense)              (None, 512)               401920    \n",
            "_________________________________________________________________\n",
            "dropout_1 (Dropout)          (None, 512)               0         \n",
            "_________________________________________________________________\n",
            "dense_2 (Dense)              (None, 512)               262656    \n",
            "_________________________________________________________________\n",
            "dropout_2 (Dropout)          (None, 512)               0         \n",
            "_________________________________________________________________\n",
            "dense_3 (Dense)              (None, 256)               131328    \n",
            "_________________________________________________________________\n",
            "dropout_3 (Dropout)          (None, 256)               0         \n",
            "_________________________________________________________________\n",
            "dense_4 (Dense)              (None, 128)               32896     \n",
            "_________________________________________________________________\n",
            "dropout_4 (Dropout)          (None, 128)               0         \n",
            "_________________________________________________________________\n",
            "dense_5 (Dense)              (None, 10)                1290      \n",
            "=================================================================\n",
            "Total params: 830,090\n",
            "Trainable params: 830,090\n",
            "Non-trainable params: 0\n",
            "_________________________________________________________________\n"
          ],
          "name": "stdout"
        }
      ]
    },
    {
      "cell_type": "code",
      "metadata": {
        "id": "ONToPGA8KiRZ"
      },
      "source": [
        "# Compiling the Model\n",
        "model.compile(loss='categorical_crossentropy', optimizer='rmsprop', metrics=['accuracy'])"
      ],
      "execution_count": null,
      "outputs": []
    },
    {
      "cell_type": "code",
      "metadata": {
        "colab": {
          "base_uri": "https://localhost:8080/"
        },
        "id": "NPkbX8TDKnrZ",
        "outputId": "b5de9a01-2a8d-4448-9faf-0b3943d2d30f"
      },
      "source": [
        "# Training the Model\n",
        "history = model.fit(X_train, y_train, batch_size=128, epochs=7, validation_data=(X_test, y_test), verbose=1)"
      ],
      "execution_count": null,
      "outputs": [
        {
          "output_type": "stream",
          "text": [
            "WARNING:tensorflow:From /tensorflow-1.15.2/python3.6/keras/backend/tensorflow_backend.py:422: The name tf.global_variables is deprecated. Please use tf.compat.v1.global_variables instead.\n",
            "\n",
            "Train on 60000 samples, validate on 10000 samples\n",
            "Epoch 1/7\n",
            "60000/60000 [==============================] - 4s 61us/step - loss: 0.3091 - accuracy: 0.9057 - val_loss: 0.1088 - val_accuracy: 0.9663\n",
            "Epoch 2/7\n",
            "60000/60000 [==============================] - 2s 35us/step - loss: 0.1281 - accuracy: 0.9636 - val_loss: 0.0962 - val_accuracy: 0.9723\n",
            "Epoch 3/7\n",
            "60000/60000 [==============================] - 2s 34us/step - loss: 0.0972 - accuracy: 0.9737 - val_loss: 0.0939 - val_accuracy: 0.9727\n",
            "Epoch 4/7\n",
            "60000/60000 [==============================] - 2s 35us/step - loss: 0.0824 - accuracy: 0.9779 - val_loss: 0.0870 - val_accuracy: 0.9756\n",
            "Epoch 5/7\n",
            "60000/60000 [==============================] - 2s 34us/step - loss: 0.0725 - accuracy: 0.9800 - val_loss: 0.0859 - val_accuracy: 0.9777\n",
            "Epoch 6/7\n",
            "60000/60000 [==============================] - 2s 37us/step - loss: 0.0638 - accuracy: 0.9830 - val_loss: 0.0914 - val_accuracy: 0.9781\n",
            "Epoch 7/7\n",
            "60000/60000 [==============================] - 2s 36us/step - loss: 0.0616 - accuracy: 0.9844 - val_loss: 0.0825 - val_accuracy: 0.9803\n"
          ],
          "name": "stdout"
        }
      ]
    },
    {
      "cell_type": "code",
      "metadata": {
        "colab": {
          "base_uri": "https://localhost:8080/",
          "height": 573
        },
        "id": "xziWv8zvyQad",
        "outputId": "9c850668-dce1-4294-c129-44d2dddb9f1b"
      },
      "source": [
        "# summarizing the model accuracy\n",
        "plt.plot(history.history['accuracy'])\n",
        "plt.plot(history.history['val_accuracy'])\n",
        "plt.title('model accuracy')\n",
        "plt.ylabel('Accuracy')\n",
        "plt.xlabel('Epoch')\n",
        "plt.legend(['train', 'test'], loc='lower right')\n",
        "plt.show()\n",
        "# summarizing the model loss\n",
        "plt.plot(history.history['loss'])\n",
        "plt.plot(history.history['val_loss'])\n",
        "plt.title('model loss')\n",
        "plt.ylabel('Loss')\n",
        "plt.xlabel('Epoch')\n",
        "plt.legend(['train', 'test'], loc='upper right')\n",
        "plt.show()"
      ],
      "execution_count": null,
      "outputs": [
        {
          "output_type": "display_data",
          "data": {
            "image/png": "[encoded data removed]",
            "text/plain": [
              "<Figure size 432x288 with 1 Axes>"
            ]
          },
          "metadata": {
            "tags": [],
            "needs_background": "light"
          }
        },
        {
          "output_type": "display_data",
          "data": {
            "image/png": "[encoded data removed]",
            "text/plain": [
              "<Figure size 432x288 with 1 Axes>"
            ]
          },
          "metadata": {
            "tags": [],
            "needs_background": "light"
          }
        }
      ]
    },
    {
      "cell_type": "code",
      "metadata": {
        "colab": {
          "base_uri": "https://localhost:8080/"
        },
        "id": "lyxIY9g_KtCh",
        "outputId": "f90e62ac-ceb4-4a51-f10b-29ae440ae472"
      },
      "source": [
        "# Computing the classification perfomance on the test set\n",
        "score = model.evaluate(X_test, y_test, verbose=0)\n",
        "print('Test loss:', score[0])\n",
        "print('Test accuracy:', 100*score[1])"
      ],
      "execution_count": null,
      "outputs": [
        {
          "output_type": "stream",
          "text": [
            "Test loss: 0.08248815764587998\n",
            "Test accuracy: 98.03000092506409\n"
          ],
          "name": "stdout"
        }
      ]
    },
    {
      "cell_type": "code",
      "metadata": {
        "id": "AxQ5VqtoLAao"
      },
      "source": [
        "# Saving the trained model\r\n",
        "model.save('deep_model.h5')"
      ],
      "execution_count": null,
      "outputs": []
    }
  ]
}