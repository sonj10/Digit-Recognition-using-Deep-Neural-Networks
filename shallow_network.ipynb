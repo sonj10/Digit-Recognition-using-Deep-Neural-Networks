{
  "nbformat": 4,
  "nbformat_minor": 0,
  "metadata": {
    "colab": {
      "name": "shallow_network.ipynb",
      "provenance": [],
      "collapsed_sections": []
    },
    "kernelspec": {
      "name": "python3",
      "display_name": "Python 3"
    },
    "accelerator": "GPU"
  },
  "cells": [
    {
      "cell_type": "markdown",
      "metadata": {
        "id": "VeN2pLd0NfN3"
      },
      "source": [
        "# **Shallow Neural Network**"
      ]
    },
    {
      "cell_type": "code",
      "metadata": {
        "colab": {
          "base_uri": "https://localhost:8080/"
        },
        "id": "EdOSI848x1kg",
        "outputId": "686de7dc-97ee-4c59-e011-b8edb18b36c3"
      },
      "source": [
        "# Selecting the required Keras and TensorFlow version\n",
        "!pip install q keras==2.3.1\n",
        "%tensorflow_version 1.5.1"
      ],
      "execution_count": 2,
      "outputs": [
        {
          "output_type": "stream",
          "text": [
            "Requirement already satisfied: q in /usr/local/lib/python3.6/dist-packages (2.6)\n",
            "Requirement already satisfied: keras==2.3.1 in /tensorflow-1.15.2/python3.6 (2.3.1)\n",
            "Requirement already satisfied: keras-applications>=1.0.6 in /tensorflow-1.15.2/python3.6 (from keras==2.3.1) (1.0.8)\n",
            "Requirement already satisfied: pyyaml in /usr/local/lib/python3.6/dist-packages (from keras==2.3.1) (3.13)\n",
            "Requirement already satisfied: h5py in /usr/local/lib/python3.6/dist-packages (from keras==2.3.1) (2.10.0)\n",
            "Requirement already satisfied: keras-preprocessing>=1.0.5 in /usr/local/lib/python3.6/dist-packages (from keras==2.3.1) (1.1.2)\n",
            "Requirement already satisfied: numpy>=1.9.1 in /usr/local/lib/python3.6/dist-packages (from keras==2.3.1) (1.18.5)\n",
            "Requirement already satisfied: scipy>=0.14 in /usr/local/lib/python3.6/dist-packages (from keras==2.3.1) (1.4.1)\n",
            "Requirement already satisfied: six>=1.9.0 in /usr/local/lib/python3.6/dist-packages (from keras==2.3.1) (1.15.0)\n",
            "`%tensorflow_version` only switches the major version: 1.x or 2.x.\n",
            "You set: `1.5.1`. This will be interpreted as: `1.x`.\n",
            "\n",
            "\n",
            "TensorFlow 1.x selected.\n"
          ],
          "name": "stdout"
        }
      ]
    },
    {
      "cell_type": "code",
      "metadata": {
        "id": "FMWo1YIRJk-B",
        "colab": {
          "base_uri": "https://localhost:8080/"
        },
        "outputId": "bf07fbf9-1ce2-4625-faf8-2124003661e1"
      },
      "source": [
        "# Importing relevant packages\n",
        "from keras.datasets import mnist\n",
        "from keras.utils import np_utils\n",
        "from keras.models import Sequential\n",
        "from keras.layers import Dense, Dropout, Flatten\n",
        "from keras.callbacks import ModelCheckpoint\n",
        "import matplotlib.pyplot as plt"
      ],
      "execution_count": 3,
      "outputs": [
        {
          "output_type": "stream",
          "text": [
            "Using TensorFlow backend.\n"
          ],
          "name": "stderr"
        }
      ]
    },
    {
      "cell_type": "code",
      "metadata": {
        "colab": {
          "base_uri": "https://localhost:8080/"
        },
        "id": "PAN1TaLiKXQj",
        "outputId": "3bade268-adbe-4e8a-ea8b-ff2a5d83ec27"
      },
      "source": [
        "# Loading the MNIST dataset\n",
        "(X_train, y_train), (X_test, y_test) = mnist.load_data()\n",
        "print(\"Size of MNIST training set = %d.\" % len(X_train))\n",
        "print(\"Size of MNIST test set = %d\" % len(X_test))"
      ],
      "execution_count": 4,
      "outputs": [
        {
          "output_type": "stream",
          "text": [
            "Downloading data from https://s3.amazonaws.com/img-datasets/mnist.npz\n",
            "11493376/11490434 [==============================] - 1s 0us/step\n",
            "Size of MNIST training set = 60000.\n",
            "Size of MNIST test set = 10000\n"
          ],
          "name": "stdout"
        }
      ]
    },
    {
      "cell_type": "code",
      "metadata": {
        "id": "HXeJ1_EFKbL5"
      },
      "source": [
        "# Scaling each pixel to the range [0,1]\n",
        "X_train = X_train.astype('float32')/255\n",
        "X_test = X_test.astype('float32')/255"
      ],
      "execution_count": 5,
      "outputs": []
    },
    {
      "cell_type": "code",
      "metadata": {
        "id": "WzWgO8a2KeKy"
      },
      "source": [
        "# Encoding the labels into integers\n",
        "y_train = np_utils.to_categorical(y_train, 10)\n",
        "y_test = np_utils.to_categorical(y_test, 10)"
      ],
      "execution_count": 6,
      "outputs": []
    },
    {
      "cell_type": "code",
      "metadata": {
        "id": "9ITbqXgLKgX5",
        "colab": {
          "base_uri": "https://localhost:8080/"
        },
        "outputId": "24923793-0d11-4b47-959d-8bd8aa1f5575"
      },
      "source": [
        "# Defining the Model Architecture\n",
        "model = Sequential()\n",
        "model.add(Flatten(input_shape=X_train.shape[1:]))\n",
        "model.add(Dense(512, activation='relu'))\n",
        "model.add(Dropout(0.2))\n",
        "model.add(Dense(10, activation='softmax'))\n",
        "model.summary()"
      ],
      "execution_count": 7,
      "outputs": [
        {
          "output_type": "stream",
          "text": [
            "WARNING:tensorflow:From /tensorflow-1.15.2/python3.6/tensorflow_core/python/ops/resource_variable_ops.py:1630: calling BaseResourceVariable.__init__ (from tensorflow.python.ops.resource_variable_ops) with constraint is deprecated and will be removed in a future version.\n",
            "Instructions for updating:\n",
            "If using Keras pass *_constraint arguments to layers.\n",
            "Model: \"sequential_1\"\n",
            "_________________________________________________________________\n",
            "Layer (type)                 Output Shape              Param #   \n",
            "=================================================================\n",
            "flatten_1 (Flatten)          (None, 784)               0         \n",
            "_________________________________________________________________\n",
            "dense_1 (Dense)              (None, 512)               401920    \n",
            "_________________________________________________________________\n",
            "dropout_1 (Dropout)          (None, 512)               0         \n",
            "_________________________________________________________________\n",
            "dense_2 (Dense)              (None, 10)                5130      \n",
            "=================================================================\n",
            "Total params: 407,050\n",
            "Trainable params: 407,050\n",
            "Non-trainable params: 0\n",
            "_________________________________________________________________\n"
          ],
          "name": "stdout"
        }
      ]
    },
    {
      "cell_type": "code",
      "metadata": {
        "id": "ONToPGA8KiRZ"
      },
      "source": [
        "# Compiling the Model\n",
        "model.compile(loss='categorical_crossentropy', optimizer='rmsprop', metrics=['accuracy'])"
      ],
      "execution_count": 8,
      "outputs": []
    },
    {
      "cell_type": "code",
      "metadata": {
        "colab": {
          "base_uri": "https://localhost:8080/"
        },
        "id": "NPkbX8TDKnrZ",
        "outputId": "3abbe2de-37aa-49e0-843e-ca1eb3d0335a"
      },
      "source": [
        "# Training the Model\n",
        "history = model.fit(X_train, y_train, batch_size=128, epochs=12, validation_data=(X_test, y_test), verbose=1)"
      ],
      "execution_count": 9,
      "outputs": [
        {
          "output_type": "stream",
          "text": [
            "WARNING:tensorflow:From /tensorflow-1.15.2/python3.6/keras/backend/tensorflow_backend.py:422: The name tf.global_variables is deprecated. Please use tf.compat.v1.global_variables instead.\n",
            "\n",
            "Train on 60000 samples, validate on 10000 samples\n",
            "Epoch 1/12\n",
            "60000/60000 [==============================] - 4s 60us/step - loss: 0.2720 - accuracy: 0.9202 - val_loss: 0.1412 - val_accuracy: 0.9570\n",
            "Epoch 2/12\n",
            "60000/60000 [==============================] - 2s 30us/step - loss: 0.1175 - accuracy: 0.9650 - val_loss: 0.0990 - val_accuracy: 0.9696\n",
            "Epoch 3/12\n",
            "60000/60000 [==============================] - 2s 30us/step - loss: 0.0812 - accuracy: 0.9757 - val_loss: 0.0824 - val_accuracy: 0.9755\n",
            "Epoch 4/12\n",
            "60000/60000 [==============================] - 2s 30us/step - loss: 0.0650 - accuracy: 0.9801 - val_loss: 0.0722 - val_accuracy: 0.9793\n",
            "Epoch 5/12\n",
            "60000/60000 [==============================] - 2s 30us/step - loss: 0.0507 - accuracy: 0.9844 - val_loss: 0.0662 - val_accuracy: 0.9804\n",
            "Epoch 6/12\n",
            "60000/60000 [==============================] - 2s 30us/step - loss: 0.0429 - accuracy: 0.9870 - val_loss: 0.0701 - val_accuracy: 0.9783\n",
            "Epoch 7/12\n",
            "60000/60000 [==============================] - 2s 30us/step - loss: 0.0358 - accuracy: 0.9895 - val_loss: 0.0642 - val_accuracy: 0.9817\n",
            "Epoch 8/12\n",
            "60000/60000 [==============================] - 2s 30us/step - loss: 0.0305 - accuracy: 0.9905 - val_loss: 0.0670 - val_accuracy: 0.9813\n",
            "Epoch 9/12\n",
            "60000/60000 [==============================] - 2s 30us/step - loss: 0.0252 - accuracy: 0.9924 - val_loss: 0.0703 - val_accuracy: 0.9806\n",
            "Epoch 10/12\n",
            "60000/60000 [==============================] - 2s 30us/step - loss: 0.0230 - accuracy: 0.9930 - val_loss: 0.0690 - val_accuracy: 0.9815\n",
            "Epoch 11/12\n",
            "60000/60000 [==============================] - 2s 31us/step - loss: 0.0204 - accuracy: 0.9937 - val_loss: 0.0633 - val_accuracy: 0.9833\n",
            "Epoch 12/12\n",
            "60000/60000 [==============================] - 2s 30us/step - loss: 0.0176 - accuracy: 0.9947 - val_loss: 0.0702 - val_accuracy: 0.9822\n"
          ],
          "name": "stdout"
        }
      ]
    },
    {
      "cell_type": "code",
      "metadata": {
        "colab": {
          "base_uri": "https://localhost:8080/",
          "height": 573
        },
        "id": "xziWv8zvyQad",
        "outputId": "3f0b2918-c3a8-4ec1-d790-1a79aadece15"
      },
      "source": [
        "# summarizing the model accuracy\n",
        "plt.plot(history.history['accuracy'])\n",
        "plt.plot(history.history['val_accuracy'])\n",
        "plt.title('model accuracy')\n",
        "plt.ylabel('Accuracy')\n",
        "plt.xlabel('Epoch')\n",
        "plt.legend(['train', 'test'], loc='lower right')\n",
        "plt.show()\n",
        "# summarizing the model loss\n",
        "plt.plot(history.history['loss'])\n",
        "plt.plot(history.history['val_loss'])\n",
        "plt.title('model loss')\n",
        "plt.ylabel('Loss')\n",
        "plt.xlabel('Epoch')\n",
        "plt.legend(['train', 'test'], loc='upper right')\n",
        "plt.show()"
      ],
      "execution_count": 10,
      "outputs": [
        {
          "output_type": "display_data",
          "data": {
            "image/png": "[encoded data removed]",
            "text/plain": [
              "<Figure size 432x288 with 1 Axes>"
            ]
          },
          "metadata": {
            "tags": [],
            "needs_background": "light"
          }
        },
        {
          "output_type": "display_data",
          "data": {
            "image/png": "[encoded data removed]",
            "text/plain": [
              "<Figure size 432x288 with 1 Axes>"
            ]
          },
          "metadata": {
            "tags": [],
            "needs_background": "light"
          }
        }
      ]
    },
    {
      "cell_type": "code",
      "metadata": {
        "colab": {
          "base_uri": "https://localhost:8080/"
        },
        "id": "lyxIY9g_KtCh",
        "outputId": "d2505b68-6416-4ae1-88c3-0182254ae395"
      },
      "source": [
        "# Computing the classification perfomance on the test set\n",
        "score = model.evaluate(X_test, y_test, verbose=0)\n",
        "print('Test loss:', score[0])\n",
        "print('Test accuracy:', 100*score[1])"
      ],
      "execution_count": 11,
      "outputs": [
        {
          "output_type": "stream",
          "text": [
            "Test loss: 0.07019497856066446\n",
            "Test accuracy: 98.2200026512146\n"
          ],
          "name": "stdout"
        }
      ]
    },
    {
      "cell_type": "code",
      "metadata": {
        "id": "AxQ5VqtoLAao"
      },
      "source": [
        "# Saving the trained model\r\n",
        "model.save('shallow_model.h5')"
      ],
      "execution_count": 12,
      "outputs": []
    }
  ]
}